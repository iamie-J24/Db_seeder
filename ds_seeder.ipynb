{
 "cells": [
  {
   "cell_type": "markdown",
   "metadata": {},
   "source": [
    "# Import mysql.connector library\n",
    "### This enables us to connect into mysql database\n",
    "In my case I've used mysql database installed together with xampp server in my machine for localhost development tests"
   ]
  },
  {
   "cell_type": "code",
   "execution_count": 58,
   "metadata": {},
   "outputs": [],
   "source": [
    "import mysql.connector"
   ]
  },
  {
   "cell_type": "markdown",
   "metadata": {},
   "source": [
    "### Connecting to mysql for the first time"
   ]
  },
  {
   "cell_type": "code",
   "execution_count": 59,
   "metadata": {},
   "outputs": [],
   "source": [
    "mydb = mysql.connector.connect(\n",
    "    host=\"localhost\",\n",
    "    user=\"root\",\n",
    "    password=\"\"\n",
    ")"
   ]
  },
  {
   "cell_type": "code",
   "execution_count": 60,
   "metadata": {},
   "outputs": [],
   "source": [
    "mycursor = mydb.cursor()"
   ]
  },
  {
   "cell_type": "code",
   "execution_count": 61,
   "metadata": {},
   "outputs": [],
   "source": [
    "mycursor.execute(\"CREATE DATABASE mydb1\")"
   ]
  },
  {
   "cell_type": "code",
   "execution_count": 62,
   "metadata": {},
   "outputs": [],
   "source": [
    "mycursor.execute(\"SHOW DATABASES\")\n"
   ]
  },
  {
   "cell_type": "markdown",
   "metadata": {},
   "source": [
    "#### creating database called mydb1"
   ]
  },
  {
   "cell_type": "code",
   "execution_count": 63,
   "metadata": {},
   "outputs": [
    {
     "name": "stdout",
     "output_type": "stream",
     "text": [
      "('clinic',)\n",
      "('custom_v3',)\n",
      "('information_schema',)\n",
      "('mydb1',)\n",
      "('mysql',)\n",
      "('performance_schema',)\n",
      "('pharm2',)\n",
      "('pharmacy',)\n",
      "('phpmyadmin',)\n",
      "('portal',)\n",
      "('pos',)\n",
      "('pos2',)\n",
      "('students_portal',)\n",
      "('test',)\n",
      "('uni',)\n",
      "('uni2',)\n"
     ]
    }
   ],
   "source": [
    "for db in mycursor:\n",
    "    print(db)"
   ]
  },
  {
   "cell_type": "markdown",
   "metadata": {},
   "source": [
    "### Connecting to mydb1 database \n",
    "Creating table names inside mydb1 with 3 comlumns - first name, middle name, and last name"
   ]
  },
  {
   "cell_type": "code",
   "execution_count": 64,
   "metadata": {},
   "outputs": [],
   "source": [
    "mydb = mysql.connector.connect(\n",
    "    host=\"localhost\",\n",
    "    user=\"root\",\n",
    "    password=\"\",\n",
    "    database=\"mydb1\"\n",
    ")"
   ]
  },
  {
   "cell_type": "code",
   "execution_count": 65,
   "metadata": {},
   "outputs": [],
   "source": [
    "mycursor = mydb.cursor()\n",
    "mycursor.execute(\"CREATE TABLE names (first_name VARCHAR(255), middle_name VARCHAR(255), last_name VARCHAR(255))\")"
   ]
  },
  {
   "cell_type": "markdown",
   "metadata": {},
   "source": [
    "## import names library\n",
    "This will be used for creating and populating random names into the table"
   ]
  },
  {
   "cell_type": "code",
   "execution_count": 66,
   "metadata": {},
   "outputs": [],
   "source": [
    "import names"
   ]
  },
  {
   "cell_type": "markdown",
   "metadata": {},
   "source": [
    "### Populating random names into database"
   ]
  },
  {
   "cell_type": "code",
   "execution_count": 67,
   "metadata": {},
   "outputs": [],
   "source": [
    "sql_query = \"INSERT INTO names (first_name, middle_name, last_name) VALUES (%s, %s, %s)\"\n",
    "\n",
    "for i in range(1000):\n",
    "    nm = (names.get_first_name(gender=\"female\"), names.get_first_name(gender=\"male\"), names.get_last_name())\n",
    "    mycursor.execute(sql_query, nm)\n",
    "    mydb.commit()\n"
   ]
  },
  {
   "cell_type": "markdown",
   "metadata": {},
   "source": [
    "#### Getting the first item in the database"
   ]
  },
  {
   "cell_type": "code",
   "execution_count": 68,
   "metadata": {},
   "outputs": [],
   "source": [
    "mycursor.execute(\"SELECT * FROM names\")\n",
    "entry = mycursor.fetchone()\n"
   ]
  },
  {
   "cell_type": "code",
   "execution_count": 69,
   "metadata": {},
   "outputs": [
    {
     "data": {
      "text/plain": [
       "['Natalie', 'Jeffrey', 'Cox']"
      ]
     },
     "execution_count": 69,
     "metadata": {},
     "output_type": "execute_result"
    }
   ],
   "source": [
    "item = list(entry)\n",
    "item"
   ]
  },
  {
   "cell_type": "markdown",
   "metadata": {},
   "source": [
    "#### Checking the largest string in the first row and displaying output"
   ]
  },
  {
   "cell_type": "code",
   "execution_count": 70,
   "metadata": {},
   "outputs": [
    {
     "name": "stdout",
     "output_type": "stream",
     "text": [
      "We have 2 largest strings with 7 characters\n"
     ]
    }
   ],
   "source": [
    "largest = ''\n",
    "largestcount=0\n",
    "length = 0\n",
    "for i in range(3):\n",
    "    if(len(item[i]) == length):\n",
    "        largestcount +=1\n",
    "    elif(len(item[i]) > length):\n",
    "        largest = item[i]\n",
    "        largestcount = 1\n",
    "        length = len(item[i])\n",
    "if(largestcount > 1):\n",
    "    print('We have', largestcount, 'largest strings with', length, 'characters')\n",
    "else:\n",
    "    print('The largest string is:', largest)"
   ]
  },
  {
   "cell_type": "markdown",
   "metadata": {},
   "source": [
    "##### Ref.\n",
    "1. SQL Tutorial https://www.w3schools.com/sql/\n",
    "2. MySQL in Python Tutorial: Getting Started https://www.datacamp.com/community/tutorials/mysql-python?utm_source=adwords_ppc&utm_medium=cpc&utm_campaignid=1455363063&utm_adgroupid=65083631748&utm_device=c&utm_keyword=&utm_matchtype=&utm_network=g&utm_adpostion=&utm_creative=278443377095&utm_targetid=dsa-429603003980&utm_loc_interest_ms=&utm_loc_physical_ms=1010225&gclid=CjwKCAiAgvKQBhBbEiwAaPQw3IoEhWCUJbxpCXgL2uuZO4Y5e_PaLiSWC64LO9hj5eR5d0DCJdMZKBoCKD4QAvD_BwE\n",
    "3. xampp server https://www.apachefriends.org/index.html\n",
    "4. mysql-connector-python 8.0.28 https://pypi.org/project/mysql-connector-python/\n",
    "5. names https://pypi.org/project/names/\n"
   ]
  },
  {
   "cell_type": "code",
   "execution_count": null,
   "metadata": {},
   "outputs": [],
   "source": []
  }
 ],
 "metadata": {
  "kernelspec": {
   "display_name": "Python 3",
   "language": "python",
   "name": "python3"
  },
  "language_info": {
   "codemirror_mode": {
    "name": "ipython",
    "version": 3
   },
   "file_extension": ".py",
   "mimetype": "text/x-python",
   "name": "python",
   "nbconvert_exporter": "python",
   "pygments_lexer": "ipython3",
   "version": "3.7.4"
  }
 },
 "nbformat": 4,
 "nbformat_minor": 2
}
